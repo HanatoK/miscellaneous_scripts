{
 "cells": [
  {
   "cell_type": "code",
   "execution_count": 15,
   "metadata": {},
   "outputs": [],
   "source": [
    "import MDAnalysis\n",
    "import numpy as np\n",
    "u = MDAnalysis.Universe(\"bound.psf\", \"bound.pdb\")"
   ]
  },
  {
   "cell_type": "code",
   "execution_count": 16,
   "metadata": {},
   "outputs": [
    {
     "name": "stdout",
     "output_type": "stream",
     "text": [
      "[ 0.16814499 -0.38182235 -0.6636063 ]\n",
      "[[49.47299957  0.          0.        ]\n",
      " [ 0.         49.5359993   0.        ]\n",
      " [ 0.          0.         49.49700165]]\n"
     ]
    }
   ],
   "source": [
    "\"\"\"\n",
    "Mimic the VMD command \"measure minmax\"\n",
    "\"\"\"\n",
    "def measure_minmax(atom_positions):\n",
    "    xyz_array = np.transpose(atom_positions)\n",
    "    min_x = np.min(xyz_array[0])\n",
    "    max_x = np.max(xyz_array[0])\n",
    "    min_y = np.min(xyz_array[1])\n",
    "    max_y = np.max(xyz_array[1])\n",
    "    min_z = np.min(xyz_array[2])\n",
    "    max_z = np.max(xyz_array[2])\n",
    "    return np.array([[min_x, min_y, min_z],[max_x, max_y, max_z]])\n",
    "\n",
    "\n",
    "\"\"\"\n",
    "Mimic the VMD command \"measure center\"\n",
    "\"\"\"\n",
    "def measure_center(atom_positions):\n",
    "    xyz_array = np.transpose(atom_positions)\n",
    "    center_x = np.average(xyz_array[0])\n",
    "    center_y = np.average(xyz_array[1])\n",
    "    center_z = np.average(xyz_array[2])\n",
    "    return np.array([center_x, center_y, center_z])\n",
    "\n",
    "\n",
    "def get_cell(atom_positions):\n",
    "    minmax_array = measure_minmax(atom_positions)\n",
    "    vec = minmax_array[1] - minmax_array[0]\n",
    "    cell_basis_vector1 = np.array([vec[0], 0, 0])\n",
    "    cell_basis_vector2 = np.array([0, vec[1], 0])\n",
    "    cell_basis_vector3 = np.array([0, 0, vec[2]])\n",
    "    return np.array([cell_basis_vector1,\n",
    "                     cell_basis_vector2,\n",
    "                     cell_basis_vector3])\n",
    "\n",
    "\n",
    "all_atoms = u.select_atoms(\"all\")\n",
    "dist_array = all_atoms.positions\n",
    "print(measure_center(dist_array))\n",
    "print(get_cell(dist_array))"
   ]
  },
  {
   "cell_type": "code",
   "execution_count": 17,
   "metadata": {},
   "outputs": [],
   "source": [
    "# access the current timestep\n",
    "u.trajectory[0].triclinic_dimensions = get_cell(dist_array)"
   ]
  },
  {
   "cell_type": "code",
   "execution_count": 18,
   "metadata": {},
   "outputs": [],
   "source": [
    "all_atoms.write(\"p41_gmx.gro\")"
   ]
  },
  {
   "cell_type": "code",
   "execution_count": 22,
   "metadata": {},
   "outputs": [],
   "source": [
    "# extract the protein to the gromacs index file\n",
    "protein = u.select_atoms(\"segid SH3D and not (name H*)\")\n",
    "protein.write(\"protein.ndx\", name=\"Protein_SH3D\")"
   ]
  },
  {
   "cell_type": "code",
   "execution_count": 21,
   "metadata": {},
   "outputs": [],
   "source": [
    "# extract the ligand to the gromacs index file\n",
    "ligand = u.select_atoms(\"segid PPRO and not (name H*)\")\n",
    "ligand.write(\"ligand.ndx\", name=\"Ligand_PPRO\")"
   ]
  },
  {
   "cell_type": "code",
   "execution_count": 23,
   "metadata": {},
   "outputs": [],
   "source": [
    "# merge the index files into a single one\n",
    "def merge_files(filename_list, output_filename):\n",
    "    with open(output_filename, \"w\") as foutput:\n",
    "        for fn in filename_list:\n",
    "            with open(fn, \"r\") as finput:\n",
    "                for line in finput:\n",
    "                    foutput.write(line)\n",
    "\n",
    "merge_files([\"protein.ndx\", \"ligand.ndx\"], \"colvars.ndx\")"
   ]
  },
  {
   "cell_type": "code",
   "execution_count": null,
   "metadata": {},
   "outputs": [],
   "source": []
  }
 ],
 "metadata": {
  "kernelspec": {
   "display_name": "Python 3",
   "language": "python",
   "name": "python3"
  },
  "language_info": {
   "codemirror_mode": {
    "name": "ipython",
    "version": 3
   },
   "file_extension": ".py",
   "mimetype": "text/x-python",
   "name": "python",
   "nbconvert_exporter": "python",
   "pygments_lexer": "ipython3",
   "version": "3.8.5"
  }
 },
 "nbformat": 4,
 "nbformat_minor": 4
}
