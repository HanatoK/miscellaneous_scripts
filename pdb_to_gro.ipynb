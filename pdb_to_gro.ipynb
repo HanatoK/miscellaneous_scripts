{
 "cells": [
  {
   "cell_type": "code",
   "execution_count": 1,
   "metadata": {},
   "outputs": [
    {
     "name": "stderr",
     "output_type": "stream",
     "text": [
      "/usr/local/lib64/python3.8/site-packages/MDAnalysis/topology/PDBParser.py:330: UserWarning: Element information is absent or missing for a few atoms. Elements attributes will not be populated.\n",
      "  warnings.warn(\"Element information is absent or missing for a few \"\n"
     ]
    }
   ],
   "source": [
    "import MDAnalysis\n",
    "import numpy as np\n",
    "u = MDAnalysis.Universe(\"p41.pdb\")"
   ]
  },
  {
   "cell_type": "code",
   "execution_count": 2,
   "metadata": {},
   "outputs": [
    {
     "name": "stdout",
     "output_type": "stream",
     "text": [
      "[ 0.031145    0.02017765 -0.13960628]\n",
      "[[49.47299957  0.          0.        ]\n",
      " [ 0.         49.53600311  0.        ]\n",
      " [ 0.          0.         49.49700165]]\n"
     ]
    }
   ],
   "source": [
    "\"\"\"\n",
    "Mimic the VMD command \"measure minmax\"\n",
    "\"\"\"\n",
    "def measure_minmax(atom_positions):\n",
    "    xyz_array = np.transpose(atom_positions)\n",
    "    min_x = np.min(xyz_array[0])\n",
    "    max_x = np.max(xyz_array[0])\n",
    "    min_y = np.min(xyz_array[1])\n",
    "    max_y = np.max(xyz_array[1])\n",
    "    min_z = np.min(xyz_array[2])\n",
    "    max_z = np.max(xyz_array[2])\n",
    "    return np.array([[min_x, min_y, min_z],[max_x, max_y, max_z]])\n",
    "\n",
    "\n",
    "\"\"\"\n",
    "Mimic the VMD command \"measure center\"\n",
    "\"\"\"\n",
    "def measure_center(atom_positions):\n",
    "    xyz_array = np.transpose(atom_positions)\n",
    "    center_x = np.average(xyz_array[0])\n",
    "    center_y = np.average(xyz_array[1])\n",
    "    center_z = np.average(xyz_array[2])\n",
    "    return np.array([center_x, center_y, center_z])\n",
    "\n",
    "\n",
    "def get_cell(atom_positions):\n",
    "    minmax_array = measure_minmax(atom_positions)\n",
    "    vec = minmax_array[1] - minmax_array[0]\n",
    "    cell_basis_vector1 = np.array([vec[0], 0, 0])\n",
    "    cell_basis_vector2 = np.array([0, vec[1], 0])\n",
    "    cell_basis_vector3 = np.array([0, 0, vec[2]])\n",
    "    return np.array([cell_basis_vector1,\n",
    "                     cell_basis_vector2,\n",
    "                     cell_basis_vector3])\n",
    "\n",
    "\n",
    "all_atoms = u.select_atoms(\"all\")\n",
    "dist_array = all_atoms.positions\n",
    "print(measure_center(dist_array))\n",
    "print(get_cell(dist_array))"
   ]
  },
  {
   "cell_type": "code",
   "execution_count": 3,
   "metadata": {},
   "outputs": [],
   "source": [
    "# access the current timestep\n",
    "u.trajectory[0].triclinic_dimensions = get_cell(dist_array)"
   ]
  },
  {
   "cell_type": "code",
   "execution_count": 4,
   "metadata": {},
   "outputs": [],
   "source": [
    "all_atoms.write(\"p41_gmx.gro\")"
   ]
  },
  {
   "cell_type": "code",
   "execution_count": null,
   "metadata": {},
   "outputs": [],
   "source": []
  }
 ],
 "metadata": {
  "kernelspec": {
   "display_name": "Python 3",
   "language": "python",
   "name": "python3"
  },
  "language_info": {
   "codemirror_mode": {
    "name": "ipython",
    "version": 3
   },
   "file_extension": ".py",
   "mimetype": "text/x-python",
   "name": "python",
   "nbconvert_exporter": "python",
   "pygments_lexer": "ipython3",
   "version": "3.8.5"
  }
 },
 "nbformat": 4,
 "nbformat_minor": 4
}
